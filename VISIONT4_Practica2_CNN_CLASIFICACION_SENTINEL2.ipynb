{
  "nbformat": 4,
  "nbformat_minor": 0,
  "metadata": {
    "kernelspec": {
      "display_name": "Python 3",
      "language": "python",
      "name": "python3"
    },
    "language_info": {
      "codemirror_mode": {
        "name": "ipython",
        "version": 3
      },
      "file_extension": ".py",
      "mimetype": "text/x-python",
      "name": "python",
      "nbconvert_exporter": "python",
      "pygments_lexer": "ipython3",
      "version": "3.7.7"
    },
    "colab": {
      "name": "VISIONT4_Practica2_CNN_CLASIFICACION_SENTINEL2.ipynb",
      "provenance": [],
      "collapsed_sections": [],
      "toc_visible": true,
      "include_colab_link": true
    }
  },
  "cells": [
    {
      "cell_type": "markdown",
      "metadata": {
        "id": "view-in-github",
        "colab_type": "text"
      },
      "source": [
        "<a href=\"https://colab.research.google.com/github/sgcortes/legion-del-mal/blob/master/VISIONT4_Practica2_CNN_CLASIFICACION_SENTINEL2.ipynb\" target=\"_parent\"><img src=\"https://colab.research.google.com/assets/colab-badge.svg\" alt=\"Open In Colab\"/></a>"
      ]
    },
    {
      "cell_type": "markdown",
      "metadata": {
        "id": "zzCkbpry5RKx"
      },
      "source": [
        "<table style=\"width:100%\">\n",
        "  <tr>\n",
        "    <td><img src=\"https://unioviedo-my.sharepoint.com/:i:/g/personal/sgcortes_uniovi_es/Ebr0ybKDTBNKtoJyzmTBuRYBXY7nE-cCYaH-WDIVJxEVWA?&download=1\" width=\"211\" height=\"69\" alt=\"Uniovi & EP Mieres logos\" title=\"Uniovi & EP Mieres logos\" /></td>\n",
        "    <td><font color=brown>Visión artificial<br></font>\n",
        "    <font color=green>Universidad de Oviedo. <br>Ingeniería en Geomática</font> <br><br>sgcortes@uniovi.es</td>\n",
        "  </tr>\n",
        "</table>"
      ]
    },
    {
      "cell_type": "markdown",
      "metadata": {
        "id": "2zeaFi2S5RK2"
      },
      "source": [
        "### PRACTICA 4.2: CLASIFICACIONES DE CUBIERTA MEDIANTE CNN EN IMÁGENES SENTINEL2 (CNN) "
      ]
    },
    {
      "cell_type": "code",
      "metadata": {
        "colab": {
          "base_uri": "https://localhost:8080/"
        },
        "id": "timJMycC6LqS",
        "outputId": "c3b5b596-b9c5-498a-a813-a025b976f030"
      },
      "source": [
        "#!pip install tensorflow==2.2.0\r\n",
        "\r\n",
        "##!wget https://unioviedo-my.sharepoint.com/personal/sgcortes_uniovi_es/_layouts/15/download.aspx?UniqueId=98537e25%2D6b87%2D48f1%2Dbb65%2D959d4fd8b2ed\r\n",
        "#https://unioviedo-my.sharepoint.com/personal/sgcortes_uniovi_es/_layouts/15/download.aspx?UniqueId=98537e25%2D6b87%2D48f1%2Dbb65%2D959d4fd8b2ed\r\n",
        "\r\n",
        "!wget https://unioviedo-my.sharepoint.com/:u:/g/personal/sgcortes_uniovi_es/ESV-U5iHa_FIu2WVnU_Ysu0BLFb1BX1hzvzTFbivXLj1ZA?e=GOfJP9&download=1\r\n",
        "!mv view?usp=sharing EuroSAT.zip\r\n",
        "!unzip -qq EuroSAT.zip\r\n",
        "%cd EuroSAT/2756/"
      ],
      "execution_count": 26,
      "outputs": [
        {
          "output_type": "stream",
          "text": [
            "--2020-12-14 16:57:48--  https://unioviedo-my.sharepoint.com/:u:/g/personal/sgcortes_uniovi_es/ESV-U5iHa_FIu2WVnU_Ysu0BLFb1BX1hzvzTFbivXLj1ZA?e=GOfJP9\n",
            "Resolving unioviedo-my.sharepoint.com (unioviedo-my.sharepoint.com)... 13.107.136.9\n",
            "Connecting to unioviedo-my.sharepoint.com (unioviedo-my.sharepoint.com)|13.107.136.9|:443... connected.\n",
            "HTTP request sent, awaiting response... 302 Found\n",
            "Location: https://unioviedo-my.sharepoint.com/personal/sgcortes_uniovi_es/_layouts/15/onedrive.aspx?id=%2Fpersonal%2Fsgcortes%5Funiovi%5Fes%2FDocuments%2F2020%5FVISION%2FEuroSAT%2Ezip&parent=%2Fpersonal%2Fsgcortes%5Funiovi%5Fes%2FDocuments%2F2020%5FVISION&originalPath=aHR0cHM6Ly91bmlvdmllZG8tbXkuc2hhcmVwb2ludC5jb20vOnU6L2cvcGVyc29uYWwvc2djb3J0ZXNfdW5pb3ZpX2VzL0VTVi1VNWlIYV9GSXUyV1ZuVV9Zc3UwQkxGYjFCWDFoenZ6VEZiaXZYTGoxWkE_cnRpbWU9aHVRZFkxR2cyRWc [following]\n",
            "--2020-12-14 16:57:48--  https://unioviedo-my.sharepoint.com/personal/sgcortes_uniovi_es/_layouts/15/onedrive.aspx?id=%2Fpersonal%2Fsgcortes%5Funiovi%5Fes%2FDocuments%2F2020%5FVISION%2FEuroSAT%2Ezip&parent=%2Fpersonal%2Fsgcortes%5Funiovi%5Fes%2FDocuments%2F2020%5FVISION&originalPath=aHR0cHM6Ly91bmlvdmllZG8tbXkuc2hhcmVwb2ludC5jb20vOnU6L2cvcGVyc29uYWwvc2djb3J0ZXNfdW5pb3ZpX2VzL0VTVi1VNWlIYV9GSXUyV1ZuVV9Zc3UwQkxGYjFCWDFoenZ6VEZiaXZYTGoxWkE_cnRpbWU9aHVRZFkxR2cyRWc\n",
            "Reusing existing connection to unioviedo-my.sharepoint.com:443.\n",
            "HTTP request sent, awaiting response... 200 OK\n",
            "Length: unspecified [text/html]\n",
            "Saving to: ‘ESV-U5iHa_FIu2WVnU_Ysu0BLFb1BX1hzvzTFbivXLj1ZA?e=GOfJP9’\n",
            "\n",
            "ESV-U5iHa_FIu2WVnU_     [  <=>               ] 140.86K   318KB/s    in 0.4s    \n",
            "\n",
            "2020-12-14 16:57:49 (318 KB/s) - ‘ESV-U5iHa_FIu2WVnU_Ysu0BLFb1BX1hzvzTFbivXLj1ZA?e=GOfJP9’ saved [144238]\n",
            "\n",
            "mv: cannot stat 'view?usp=sharing': No such file or directory\n",
            "unzip:  cannot find or open EuroSAT.zip, EuroSAT.zip.zip or EuroSAT.zip.ZIP.\n",
            "[Errno 2] No such file or directory: 'EuroSAT/2756/'\n",
            "/content\n"
          ],
          "name": "stdout"
        }
      ]
    },
    {
      "cell_type": "code",
      "metadata": {
        "id": "06q8ZymA5RK2"
      },
      "source": [
        "S%matplotlib inline\n",
        "import os\n",
        "import numpy as np\n",
        "import matplotlib.pyplot as plt\n",
        "from PIL import Image\n",
        "\n",
        "import keras"
      ],
      "execution_count": null,
      "outputs": []
    },
    {
      "cell_type": "code",
      "metadata": {
        "colab": {
          "base_uri": "https://localhost:8080/",
          "height": 387
        },
        "id": "heTkkBmcM4N7",
        "outputId": "8b5c8efd-fa82-49fc-f074-bb4214ed24c5"
      },
      "source": [
        "from google.colab import drive\n",
        "drive.mount('/content/drive')"
      ],
      "execution_count": 27,
      "outputs": [
        {
          "output_type": "stream",
          "text": [
            "Go to this URL in a browser: https://accounts.google.com/o/oauth2/auth?client_id=947318989803-6bn6qk8qdgf4n4g3pfee6491hc0brc4i.apps.googleusercontent.com&redirect_uri=urn%3aietf%3awg%3aoauth%3a2.0%3aoob&scope=email%20https%3a%2f%2fwww.googleapis.com%2fauth%2fdocs.test%20https%3a%2f%2fwww.googleapis.com%2fauth%2fdrive%20https%3a%2f%2fwww.googleapis.com%2fauth%2fdrive.photos.readonly%20https%3a%2f%2fwww.googleapis.com%2fauth%2fpeopleapi.readonly%20https%3a%2f%2fwww.googleapis.com%2fauth%2fdrive.activity.readonly&response_type=code\n",
            "\n",
            "Enter your authorization code:\n",
            "dade4300\n"
          ],
          "name": "stdout"
        },
        {
          "output_type": "error",
          "ename": "ValueError",
          "evalue": "ignored",
          "traceback": [
            "\u001b[0;31m---------------------------------------------------------------------------\u001b[0m",
            "\u001b[0;31mValueError\u001b[0m                                Traceback (most recent call last)",
            "\u001b[0;32m<ipython-input-27-d5df0069828e>\u001b[0m in \u001b[0;36m<module>\u001b[0;34m()\u001b[0m\n\u001b[1;32m      1\u001b[0m \u001b[0;32mfrom\u001b[0m \u001b[0mgoogle\u001b[0m\u001b[0;34m.\u001b[0m\u001b[0mcolab\u001b[0m \u001b[0;32mimport\u001b[0m \u001b[0mdrive\u001b[0m\u001b[0;34m\u001b[0m\u001b[0;34m\u001b[0m\u001b[0m\n\u001b[0;32m----> 2\u001b[0;31m \u001b[0mdrive\u001b[0m\u001b[0;34m.\u001b[0m\u001b[0mmount\u001b[0m\u001b[0;34m(\u001b[0m\u001b[0;34m'/content/drive'\u001b[0m\u001b[0;34m)\u001b[0m\u001b[0;34m\u001b[0m\u001b[0;34m\u001b[0m\u001b[0m\n\u001b[0m",
            "\u001b[0;32m/usr/local/lib/python3.6/dist-packages/google/colab/drive.py\u001b[0m in \u001b[0;36mmount\u001b[0;34m(mountpoint, force_remount, timeout_ms, use_metadata_server)\u001b[0m\n\u001b[1;32m    256\u001b[0m       \u001b[0mwrote_to_fifo\u001b[0m \u001b[0;34m=\u001b[0m \u001b[0;32mTrue\u001b[0m\u001b[0;34m\u001b[0m\u001b[0;34m\u001b[0m\u001b[0m\n\u001b[1;32m    257\u001b[0m     \u001b[0;32melif\u001b[0m \u001b[0mcase\u001b[0m \u001b[0;34m==\u001b[0m \u001b[0;36m5\u001b[0m\u001b[0;34m:\u001b[0m\u001b[0;34m\u001b[0m\u001b[0;34m\u001b[0m\u001b[0m\n\u001b[0;32m--> 258\u001b[0;31m       \u001b[0;32mraise\u001b[0m \u001b[0mValueError\u001b[0m\u001b[0;34m(\u001b[0m\u001b[0;34m'mount failed: invalid oauth code'\u001b[0m\u001b[0;34m)\u001b[0m\u001b[0;34m\u001b[0m\u001b[0;34m\u001b[0m\u001b[0m\n\u001b[0m\u001b[1;32m    259\u001b[0m   \u001b[0;32mif\u001b[0m \u001b[0;32mnot\u001b[0m \u001b[0mwrote_to_fifo\u001b[0m\u001b[0;34m:\u001b[0m\u001b[0;34m\u001b[0m\u001b[0;34m\u001b[0m\u001b[0m\n\u001b[1;32m    260\u001b[0m     \u001b[0;32mwith\u001b[0m \u001b[0mopen\u001b[0m\u001b[0;34m(\u001b[0m\u001b[0mfifo\u001b[0m\u001b[0;34m,\u001b[0m \u001b[0;34m'w'\u001b[0m\u001b[0;34m)\u001b[0m \u001b[0;32mas\u001b[0m \u001b[0mfifo_file\u001b[0m\u001b[0;34m:\u001b[0m\u001b[0;34m\u001b[0m\u001b[0;34m\u001b[0m\u001b[0m\n",
            "\u001b[0;31mValueError\u001b[0m: mount failed: invalid oauth code"
          ]
        }
      ]
    },
    {
      "cell_type": "markdown",
      "metadata": {
        "id": "nOfZ-xSx5RK3"
      },
      "source": [
        "#### Carga de datos \n",
        "Realizamos la carga de datos y recordemos las clases posibles que coicniden con los nombres de los subdirectorios."
      ]
    },
    {
      "cell_type": "code",
      "metadata": {
        "id": "W99VOISL5RK3",
        "outputId": "5c88a9e3-706e-45c4-a47a-45794b7cb46d"
      },
      "source": [
        "ruta_datos = '../EuroSAT/2750/'\n",
        "clases = os.listdir(ruta_datos)\n",
        "print(clases)"
      ],
      "execution_count": null,
      "outputs": [
        {
          "output_type": "stream",
          "text": [
            "['AnnualCrop', 'Forest', 'HerbaceousVegetation', 'Highway', 'Industrial', 'Pasture', 'PermanentCrop', 'Residential', 'River', 'SeaLake']\n"
          ],
          "name": "stdout"
        }
      ]
    },
    {
      "cell_type": "markdown",
      "metadata": {
        "id": "oZqKwyTn5RK4"
      },
      "source": [
        "Inicializamos un diccionario para asociar las clases a un número y unas listas que contengan las imágenes de entrada y las etiquetas de clase en el vector _datos de salida_.  "
      ]
    },
    {
      "cell_type": "code",
      "metadata": {
        "id": "MWTss2kz5RK4",
        "outputId": "688b19f0-ff58-4ca6-d573-0f9a90b6fbcf"
      },
      "source": [
        "dic_clases = {}\n",
        "datos_entrada = []\n",
        "datos_salida = []\n",
        "i=0\n",
        "\n",
        "for i, clase in enumerate(clases):\n",
        "    if os.path.isdir(ruta_datos+clase):\n",
        "        for file in os.listdir(ruta_datos+clase):\n",
        "            im = Image.open(os.path.join(ruta_datos, clase, file))\n",
        "            im_array = np.array(im)\n",
        "            datos_entrada.append(im_array)\n",
        "            datos_salida.append(i)\n",
        "        dic_clases[i] = clase\n",
        "        \n",
        "datos_entrada = np.array(datos_entrada)\n",
        "datos_salida = np.array(datos_salida)\n",
        "\n",
        "print(datos_entrada.shape) # num imgs, anchura, altura, canaales\n",
        "print(datos_salida.shape) # etiqueta de clase de cada imagen"
      ],
      "execution_count": null,
      "outputs": [
        {
          "output_type": "stream",
          "text": [
            "(27000, 64, 64, 3)\n",
            "(27000,)\n"
          ],
          "name": "stdout"
        }
      ]
    },
    {
      "cell_type": "code",
      "metadata": {
        "id": "ZOm0baTQ5RK5",
        "outputId": "05f5b589-5b67-40c6-dcbd-db76c8fac1e9"
      },
      "source": [
        "print(np.unique(datos_salida))"
      ],
      "execution_count": null,
      "outputs": [
        {
          "output_type": "stream",
          "text": [
            "[0 1 2 3 4 5 6 7 8 9]\n"
          ],
          "name": "stdout"
        }
      ]
    },
    {
      "cell_type": "markdown",
      "metadata": {
        "id": "yJhGLY785RK5"
      },
      "source": [
        "#### División de datos de entrenamiento y test"
      ]
    },
    {
      "cell_type": "code",
      "metadata": {
        "id": "fFcjpnug5RK5",
        "outputId": "baf7bdb4-7a2f-42fe-c8a7-722160949261"
      },
      "source": [
        "from sklearn.model_selection import train_test_split\n",
        "x_train, x_test, clases_train, clases_test = train_test_split(datos_entrada,\n",
        "                                                           datos_salida,\n",
        "                                                           train_size=0.8,\n",
        "                                                           random_state=1,\n",
        "                                                           shuffle=True)\n",
        "print('Dimensión imágenes entrada x_train: ', x_train.shape)\n",
        "print('Dimension clases train: ', clases_train.shape)\n",
        "# convertir la salida a foramto \"one-hot\"\n",
        "y_train = keras.utils.to_categorical(clases_train)\n",
        "print('Dimension y train: ', y_train.shape)\n",
        "y_test = keras.utils.to_categorical(clases_test)"
      ],
      "execution_count": null,
      "outputs": [
        {
          "output_type": "stream",
          "text": [
            "Dimensión imágenes entrada x_train:  (21600, 64, 64, 3)\n",
            "Dimension clases train:  (21600,)\n",
            "Dimension y train:  (21600, 10)\n"
          ],
          "name": "stdout"
        }
      ]
    },
    {
      "cell_type": "code",
      "metadata": {
        "id": "ZAbGDDZZ5RK6"
      },
      "source": [
        "# Normalización de imágenes\n",
        "x_train = x_train/255\n",
        "x_test =x_test/255"
      ],
      "execution_count": null,
      "outputs": []
    },
    {
      "cell_type": "code",
      "metadata": {
        "id": "-QqlJKE35RK6",
        "outputId": "7aec65e3-9649-40ec-c933-2a214d009518"
      },
      "source": [
        "# Comprobamos el tamaño del conjnto de datos\n",
        "print(x_train.shape)\n",
        "print(x_test.shape)"
      ],
      "execution_count": null,
      "outputs": [
        {
          "output_type": "stream",
          "text": [
            "(21600, 64, 64, 3)\n",
            "(5400, 64, 64, 3)\n"
          ],
          "name": "stdout"
        }
      ]
    },
    {
      "cell_type": "code",
      "metadata": {
        "id": "yl8R2GE15RK6",
        "outputId": "f6ab138b-207e-443f-a15f-5d0660d55f6b"
      },
      "source": [
        "print(y_train.shape)\n",
        "print(y_test.shape)"
      ],
      "execution_count": null,
      "outputs": [
        {
          "output_type": "stream",
          "text": [
            "(21600, 10)\n",
            "(5400, 10)\n"
          ],
          "name": "stdout"
        }
      ]
    },
    {
      "cell_type": "markdown",
      "metadata": {
        "id": "ihx9iObq5RK6"
      },
      "source": [
        "### Caso 1: CNN, Convolutional Neural Networks\n",
        "A efectos de comparación de las métricas de desempeño podemos emplear como punto de comparación un modelo CNN como el que sigue, sin MaxPooling2D, ni dropout ni Batch Normalization."
      ]
    },
    {
      "cell_type": "code",
      "metadata": {
        "id": "iN3siwci5RK7",
        "outputId": "28611738-042b-4bc2-d83a-3729b9be2423"
      },
      "source": [
        "from keras.models import Sequential\n",
        "from keras.layers import Dense, Dropout, Conv2D\n",
        "from keras.layers import MaxPooling2D, Flatten\n",
        "\n",
        "cnn = Sequential()\n",
        "cnn.add(Conv2D(16, 5, strides = (2,2),\n",
        "              activation='relu',\n",
        "              padding = 'same',\n",
        "              input_shape = (64,64,3)))\n",
        "\n",
        "cnn.add(Conv2D(32, 3, strides = (2,2),\n",
        "              activation='relu',\n",
        "              padding = 'same'))\n",
        "\n",
        "cnn.add(Conv2D(64, 3, strides = (2,2),\n",
        "              activation='relu',\n",
        "              padding = 'same'))\n",
        "\n",
        "cnn.add(Flatten())       \n",
        "cnn.add(Dense(50, activation = 'relu'))\n",
        "cnn.add(Dense(10, activation = 'softmax'))\n",
        "cnn.summary()"
      ],
      "execution_count": null,
      "outputs": [
        {
          "output_type": "stream",
          "text": [
            "WARNING:tensorflow:From C:\\Users\\sgcor\\anaconda3\\envs\\tfgpu\\lib\\site-packages\\keras\\backend\\tensorflow_backend.py:66: The name tf.get_default_graph is deprecated. Please use tf.compat.v1.get_default_graph instead.\n",
            "\n",
            "WARNING:tensorflow:From C:\\Users\\sgcor\\anaconda3\\envs\\tfgpu\\lib\\site-packages\\keras\\backend\\tensorflow_backend.py:541: The name tf.placeholder is deprecated. Please use tf.compat.v1.placeholder instead.\n",
            "\n",
            "WARNING:tensorflow:From C:\\Users\\sgcor\\anaconda3\\envs\\tfgpu\\lib\\site-packages\\keras\\backend\\tensorflow_backend.py:4432: The name tf.random_uniform is deprecated. Please use tf.random.uniform instead.\n",
            "\n",
            "Model: \"sequential_1\"\n",
            "_________________________________________________________________\n",
            "Layer (type)                 Output Shape              Param #   \n",
            "=================================================================\n",
            "conv2d_1 (Conv2D)            (None, 32, 32, 16)        1216      \n",
            "_________________________________________________________________\n",
            "conv2d_2 (Conv2D)            (None, 16, 16, 32)        4640      \n",
            "_________________________________________________________________\n",
            "conv2d_3 (Conv2D)            (None, 8, 8, 64)          18496     \n",
            "_________________________________________________________________\n",
            "flatten_1 (Flatten)          (None, 4096)              0         \n",
            "_________________________________________________________________\n",
            "dense_1 (Dense)              (None, 50)                204850    \n",
            "_________________________________________________________________\n",
            "dense_2 (Dense)              (None, 10)                510       \n",
            "=================================================================\n",
            "Total params: 229,712\n",
            "Trainable params: 229,712\n",
            "Non-trainable params: 0\n",
            "_________________________________________________________________\n"
          ],
          "name": "stdout"
        }
      ]
    },
    {
      "cell_type": "markdown",
      "metadata": {
        "id": "YNN_l0-Y5RK7"
      },
      "source": [
        "Compilamos y entrenamos el modelo:"
      ]
    },
    {
      "cell_type": "code",
      "metadata": {
        "id": "fQAJcPi45RK7",
        "outputId": "edf3a493-2a1a-48eb-9bc2-b9b0fdc0b826"
      },
      "source": [
        "cnn.compile(optimizer='adam',\n",
        "            loss='categorical_crossentropy',\n",
        "            metrics=['accuracy'])"
      ],
      "execution_count": null,
      "outputs": [
        {
          "output_type": "stream",
          "text": [
            "WARNING:tensorflow:From C:\\Users\\sgcor\\anaconda3\\envs\\tfgpu\\lib\\site-packages\\keras\\optimizers.py:793: The name tf.train.Optimizer is deprecated. Please use tf.compat.v1.train.Optimizer instead.\n",
            "\n",
            "WARNING:tensorflow:From C:\\Users\\sgcor\\anaconda3\\envs\\tfgpu\\lib\\site-packages\\keras\\backend\\tensorflow_backend.py:3576: The name tf.log is deprecated. Please use tf.math.log instead.\n",
            "\n"
          ],
          "name": "stdout"
        }
      ]
    },
    {
      "cell_type": "code",
      "metadata": {
        "id": "5DtME7zQ5RK7",
        "outputId": "277ce924-e452-4a01-86c6-7788c3b0b5e4"
      },
      "source": [
        "hist = cnn.fit(x_train, y_train,\n",
        "               epochs =25,\n",
        "               batch_size =128,\n",
        "               validation_data=(x_test, y_test))"
      ],
      "execution_count": null,
      "outputs": [
        {
          "output_type": "stream",
          "text": [
            "WARNING:tensorflow:From C:\\Users\\sgcor\\anaconda3\\envs\\tfgpu\\lib\\site-packages\\tensorflow\\python\\ops\\math_grad.py:1250: add_dispatch_support.<locals>.wrapper (from tensorflow.python.ops.array_ops) is deprecated and will be removed in a future version.\n",
            "Instructions for updating:\n",
            "Use tf.where in 2.0, which has the same broadcast rule as np.where\n",
            "WARNING:tensorflow:From C:\\Users\\sgcor\\anaconda3\\envs\\tfgpu\\lib\\site-packages\\keras\\backend\\tensorflow_backend.py:1033: The name tf.assign_add is deprecated. Please use tf.compat.v1.assign_add instead.\n",
            "\n",
            "Train on 21600 samples, validate on 5400 samples\n",
            "Epoch 1/25\n",
            "21600/21600 [==============================] - 7s 304us/step - loss: 1.6333 - acc: 0.3920 - val_loss: 1.3316 - val_acc: 0.5144\n",
            "Epoch 2/25\n",
            "21600/21600 [==============================] - 4s 193us/step - loss: 1.2135 - acc: 0.5691 - val_loss: 1.1767 - val_acc: 0.6063\n",
            "Epoch 3/25\n",
            "21600/21600 [==============================] - 4s 184us/step - loss: 1.0084 - acc: 0.6482 - val_loss: 0.9146 - val_acc: 0.6680\n",
            "Epoch 4/25\n",
            "21600/21600 [==============================] - 4s 184us/step - loss: 0.8564 - acc: 0.7021 - val_loss: 0.8143 - val_acc: 0.7106\n",
            "Epoch 5/25\n",
            "21600/21600 [==============================] - 4s 184us/step - loss: 0.7951 - acc: 0.7197 - val_loss: 0.7877 - val_acc: 0.7161\n",
            "Epoch 6/25\n",
            "21600/21600 [==============================] - 4s 189us/step - loss: 0.7323 - acc: 0.7414 - val_loss: 0.7628 - val_acc: 0.7335\n",
            "Epoch 7/25\n",
            "21600/21600 [==============================] - 4s 194us/step - loss: 0.6812 - acc: 0.7539 - val_loss: 0.6843 - val_acc: 0.7561\n",
            "Epoch 8/25\n",
            "21600/21600 [==============================] - 4s 193us/step - loss: 0.6222 - acc: 0.7764 - val_loss: 0.6809 - val_acc: 0.7494\n",
            "Epoch 9/25\n",
            "21600/21600 [==============================] - 4s 186us/step - loss: 0.6144 - acc: 0.7784 - val_loss: 0.7102 - val_acc: 0.7430c: \n",
            "Epoch 10/25\n",
            "21600/21600 [==============================] - 4s 182us/step - loss: 0.5673 - acc: 0.7975 - val_loss: 0.6382 - val_acc: 0.7722\n",
            "Epoch 11/25\n",
            "21600/21600 [==============================] - 4s 184us/step - loss: 0.5548 - acc: 0.8027 - val_loss: 0.7175 - val_acc: 0.7406\n",
            "Epoch 12/25\n",
            "21600/21600 [==============================] - 4s 187us/step - loss: 0.5154 - acc: 0.8122 - val_loss: 0.6098 - val_acc: 0.7850\n",
            "Epoch 13/25\n",
            "21600/21600 [==============================] - 4s 198us/step - loss: 0.4982 - acc: 0.8192 - val_loss: 0.7084 - val_acc: 0.7520\n",
            "Epoch 14/25\n",
            "21600/21600 [==============================] - 4s 196us/step - loss: 0.4731 - acc: 0.8308 - val_loss: 0.6190 - val_acc: 0.7874\n",
            "Epoch 15/25\n",
            "21600/21600 [==============================] - 4s 184us/step - loss: 0.4543 - acc: 0.8354 - val_loss: 0.6395 - val_acc: 0.7750\n",
            "Epoch 16/25\n",
            "21600/21600 [==============================] - 4s 186us/step - loss: 0.4216 - acc: 0.8480 - val_loss: 0.6492 - val_acc: 0.7696\n",
            "Epoch 17/25\n",
            "21600/21600 [==============================] - 4s 187us/step - loss: 0.4161 - acc: 0.8467 - val_loss: 0.6239 - val_acc: 0.7865\n",
            "Epoch 18/25\n",
            "21600/21600 [==============================] - 4s 189us/step - loss: 0.3905 - acc: 0.8574 - val_loss: 0.6258 - val_acc: 0.7919\n",
            "Epoch 19/25\n",
            "21600/21600 [==============================] - 4s 197us/step - loss: 0.3636 - acc: 0.8712 - val_loss: 0.7418 - val_acc: 0.7589\n",
            "Epoch 20/25\n",
            "21600/21600 [==============================] - 4s 194us/step - loss: 0.3528 - acc: 0.8745 - val_loss: 0.6124 - val_acc: 0.7980\n",
            "Epoch 21/25\n",
            "21600/21600 [==============================] - 4s 185us/step - loss: 0.3221 - acc: 0.8860 - val_loss: 0.6430 - val_acc: 0.7996\n",
            "Epoch 22/25\n",
            "21600/21600 [==============================] - 4s 184us/step - loss: 0.3236 - acc: 0.8831 - val_loss: 0.6385 - val_acc: 0.7948\n",
            "Epoch 23/25\n",
            "21600/21600 [==============================] - 4s 184us/step - loss: 0.2986 - acc: 0.8949 - val_loss: 0.6183 - val_acc: 0.8072\n",
            "Epoch 24/25\n",
            "21600/21600 [==============================] - 4s 191us/step - loss: 0.2841 - acc: 0.8994 - val_loss: 0.6450 - val_acc: 0.7928\n",
            "Epoch 25/25\n",
            "21600/21600 [==============================] - 4s 199us/step - loss: 0.2616 - acc: 0.9094 - val_loss: 0.6547 - val_acc: 0.7946\n"
          ],
          "name": "stdout"
        }
      ]
    },
    {
      "cell_type": "markdown",
      "metadata": {
        "id": "f8c6KP_L5RK8"
      },
      "source": [
        "## MaxPooling\n",
        "Cambiemos el modelo añadiendo MaxPooling. Recordemos que de este modo disminuimos la dimensiones de los mapas (con lo que podemos aumentar el número de canales) y añadimos regularización. Además disminuye mucho el número de parámetros a entrenar."
      ]
    },
    {
      "cell_type": "code",
      "metadata": {
        "id": "RUx5hykB5RK8",
        "outputId": "a843440d-daf9-43b1-854b-b049715ef076"
      },
      "source": [
        "cnn2 = Sequential()\n",
        "cnn2.add(Conv2D(16, 5, strides = (2,2),\n",
        "              activation='relu',\n",
        "              padding = 'same',\n",
        "              input_shape = (64,64,3)))\n",
        "cnn2.add(MaxPooling2D(pool_size=2))\n",
        "\n",
        "cnn2.add(Conv2D(32, 3, strides = (2,2),\n",
        "              activation='relu',\n",
        "              padding = 'same'))\n",
        "cnn2.add(MaxPooling2D(pool_size=2))\n",
        "\n",
        "cnn2.add(Conv2D(64, 3, strides = (2,2),\n",
        "              activation='relu',\n",
        "              padding = 'same'))\n",
        "cnn2.add(MaxPooling2D(pool_size=2))\n",
        "\n",
        "cnn2.add(Flatten())       \n",
        "cnn2.add(Dense(50, activation = 'relu'))\n",
        "cnn2.add(Dense(10, activation = 'softmax'))\n",
        "cnn2.summary()"
      ],
      "execution_count": null,
      "outputs": [
        {
          "output_type": "stream",
          "text": [
            "WARNING:tensorflow:From C:\\Users\\sgcor\\anaconda3\\envs\\tfgpu\\lib\\site-packages\\keras\\backend\\tensorflow_backend.py:4267: The name tf.nn.max_pool is deprecated. Please use tf.nn.max_pool2d instead.\n",
            "\n",
            "Model: \"sequential_2\"\n",
            "_________________________________________________________________\n",
            "Layer (type)                 Output Shape              Param #   \n",
            "=================================================================\n",
            "conv2d_4 (Conv2D)            (None, 32, 32, 16)        1216      \n",
            "_________________________________________________________________\n",
            "max_pooling2d_1 (MaxPooling2 (None, 16, 16, 16)        0         \n",
            "_________________________________________________________________\n",
            "conv2d_5 (Conv2D)            (None, 8, 8, 32)          4640      \n",
            "_________________________________________________________________\n",
            "max_pooling2d_2 (MaxPooling2 (None, 4, 4, 32)          0         \n",
            "_________________________________________________________________\n",
            "conv2d_6 (Conv2D)            (None, 2, 2, 64)          18496     \n",
            "_________________________________________________________________\n",
            "max_pooling2d_3 (MaxPooling2 (None, 1, 1, 64)          0         \n",
            "_________________________________________________________________\n",
            "flatten_2 (Flatten)          (None, 64)                0         \n",
            "_________________________________________________________________\n",
            "dense_3 (Dense)              (None, 50)                3250      \n",
            "_________________________________________________________________\n",
            "dense_4 (Dense)              (None, 10)                510       \n",
            "=================================================================\n",
            "Total params: 28,112\n",
            "Trainable params: 28,112\n",
            "Non-trainable params: 0\n",
            "_________________________________________________________________\n"
          ],
          "name": "stdout"
        }
      ]
    },
    {
      "cell_type": "code",
      "metadata": {
        "id": "2Tc7Ewrc5RK8"
      },
      "source": [
        "cnn2.compile(optimizer='adam',\n",
        "            loss='categorical_crossentropy',\n",
        "            metrics=['accuracy'])"
      ],
      "execution_count": null,
      "outputs": []
    },
    {
      "cell_type": "code",
      "metadata": {
        "id": "ACI0yM_W5RK8",
        "outputId": "f2248eec-0646-4245-9458-0bbfda8bf05b"
      },
      "source": [
        "hist = cnn2.fit(x_train, y_train,\n",
        "               epochs =25,\n",
        "               batch_size =128,\n",
        "               validation_data=(x_test, y_test))"
      ],
      "execution_count": null,
      "outputs": [
        {
          "output_type": "stream",
          "text": [
            "Train on 21600 samples, validate on 5400 samples\n",
            "Epoch 1/25\n",
            "21600/21600 [==============================] - 4s 202us/step - loss: 1.7527 - acc: 0.3445 - val_loss: 1.3813 - val_acc: 0.5131\n",
            "Epoch 2/25\n",
            "21600/21600 [==============================] - 4s 181us/step - loss: 1.2590 - acc: 0.5448 - val_loss: 1.2199 - val_acc: 0.5544\n",
            "Epoch 3/25\n",
            "21600/21600 [==============================] - 4s 167us/step - loss: 1.1141 - acc: 0.5965 - val_loss: 1.0746 - val_acc: 0.6057\n",
            "Epoch 4/25\n",
            "21600/21600 [==============================] - 4s 170us/step - loss: 1.0482 - acc: 0.6103 - val_loss: 0.9871 - val_acc: 0.6335\n",
            "Epoch 5/25\n",
            "21600/21600 [==============================] - 4s 171us/step - loss: 1.0009 - acc: 0.6267 - val_loss: 1.0270 - val_acc: 0.6143\n",
            "Epoch 6/25\n",
            "21600/21600 [==============================] - 4s 169us/step - loss: 0.9346 - acc: 0.6535 - val_loss: 0.9147 - val_acc: 0.6567\n",
            "Epoch 7/25\n",
            "21600/21600 [==============================] - 4s 178us/step - loss: 0.9144 - acc: 0.6603 - val_loss: 0.9924 - val_acc: 0.6257\n",
            "Epoch 8/25\n",
            "21600/21600 [==============================] - 4s 177us/step - loss: 0.8677 - acc: 0.6779 - val_loss: 0.8570 - val_acc: 0.6824\n",
            "Epoch 9/25\n",
            "21600/21600 [==============================] - 4s 178us/step - loss: 0.8330 - acc: 0.6925 - val_loss: 0.8307 - val_acc: 0.6865\n",
            "Epoch 10/25\n",
            "21600/21600 [==============================] - 4s 171us/step - loss: 0.7795 - acc: 0.7133 - val_loss: 0.7890 - val_acc: 0.7091\n",
            "Epoch 11/25\n",
            "21600/21600 [==============================] - 4s 173us/step - loss: 0.7544 - acc: 0.7230 - val_loss: 0.7576 - val_acc: 0.7198\n",
            "Epoch 12/25\n",
            "21600/21600 [==============================] - 4s 177us/step - loss: 0.7358 - acc: 0.7301 - val_loss: 0.7148 - val_acc: 0.7372\n",
            "Epoch 13/25\n",
            "21600/21600 [==============================] - 4s 173us/step - loss: 0.6973 - acc: 0.7438 - val_loss: 0.7577 - val_acc: 0.7328\n",
            "Epoch 14/25\n",
            "21600/21600 [==============================] - 4s 179us/step - loss: 0.6962 - acc: 0.7447 - val_loss: 0.7032 - val_acc: 0.7474\n",
            "Epoch 15/25\n",
            "21600/21600 [==============================] - 4s 180us/step - loss: 0.6702 - acc: 0.7540 - val_loss: 0.7375 - val_acc: 0.7320\n",
            "Epoch 16/25\n",
            "21600/21600 [==============================] - 4s 174us/step - loss: 0.6652 - acc: 0.7562 - val_loss: 0.6549 - val_acc: 0.7569\n",
            "Epoch 17/25\n",
            "21600/21600 [==============================] - 4s 171us/step - loss: 0.6479 - acc: 0.7613 - val_loss: 0.7308 - val_acc: 0.7319\n",
            "Epoch 18/25\n",
            "21600/21600 [==============================] - 4s 175us/step - loss: 0.6249 - acc: 0.7719 - val_loss: 0.7003 - val_acc: 0.7415\n",
            "Epoch 19/25\n",
            "21600/21600 [==============================] - 4s 174us/step - loss: 0.6249 - acc: 0.7730 - val_loss: 0.8470 - val_acc: 0.6974\n",
            "Epoch 20/25\n",
            "21600/21600 [==============================] - 4s 191us/step - loss: 0.6257 - acc: 0.7720 - val_loss: 0.7051 - val_acc: 0.7370\n",
            "Epoch 21/25\n",
            "21600/21600 [==============================] - 4s 187us/step - loss: 0.6007 - acc: 0.7812 - val_loss: 0.6161 - val_acc: 0.7781\n",
            "Epoch 22/25\n",
            "21600/21600 [==============================] - 4s 178us/step - loss: 0.6132 - acc: 0.7757 - val_loss: 0.6812 - val_acc: 0.7483\n",
            "Epoch 23/25\n",
            "21600/21600 [==============================] - 4s 174us/step - loss: 0.5784 - acc: 0.7901 - val_loss: 0.5873 - val_acc: 0.7869\n",
            "Epoch 24/25\n",
            "21600/21600 [==============================] - 4s 171us/step - loss: 0.5842 - acc: 0.7847 - val_loss: 0.6269 - val_acc: 0.7693\n",
            "Epoch 25/25\n",
            "21600/21600 [==============================] - 4s 170us/step - loss: 0.5645 - acc: 0.7932 - val_loss: 0.5725 - val_acc: 0.7946\n"
          ],
          "name": "stdout"
        }
      ]
    },
    {
      "cell_type": "markdown",
      "metadata": {
        "id": "YZoSI3Sl5RK8"
      },
      "source": [
        "### Red mas profunda \n",
        "También es posible hacer la red mas profunda:"
      ]
    },
    {
      "cell_type": "code",
      "metadata": {
        "id": "4bkCEz7Y5RK9",
        "outputId": "35df1ac8-2844-4c88-9251-30fb98ade879"
      },
      "source": [
        "cnn3 = Sequential()\n",
        "cnn3.add(Conv2D(16, 5,activation='relu',padding = 'same',input_shape = (64,64,3)))\n",
        "cnn3.add(Conv2D(16, 5, strides = (2,2),activation='relu',padding = 'same',input_shape = (64,64,3)))\n",
        "cnn3.add(MaxPooling2D(pool_size=2))\n",
        "\n",
        "cnn3.add(Conv2D(32, 3,activation='relu',padding = 'same'))\n",
        "cnn3.add(Conv2D(32, 3, strides = (2,2),\n",
        "              activation='relu',\n",
        "              padding = 'same'))\n",
        "cnn3.add(MaxPooling2D(pool_size=2))\n",
        "\n",
        "cnn3.add(Conv2D(64, 3,activation='relu',padding = 'same'))\n",
        "cnn3.add(Conv2D(64, 3,activation='relu',padding = 'same'))\n",
        "cnn3.add(MaxPooling2D(pool_size=2))\n",
        "\n",
        "cnn3.add(Conv2D(128, 3,activation='relu',padding = 'same'))\n",
        "cnn3.add(Conv2D(128, 3,activation='relu',padding = 'same'))\n",
        "cnn3.add(MaxPooling2D(pool_size=2))\n",
        "\n",
        "cnn3.add(Flatten()) \n",
        "cnn3.add(Dropout(0.4))\n",
        "cnn3.add(Dense(50, activation = 'relu'))\n",
        "cnn3.add(Dense(10, activation = 'softmax'))\n",
        "cnn3.summary()"
      ],
      "execution_count": null,
      "outputs": [
        {
          "output_type": "stream",
          "text": [
            "WARNING:tensorflow:From C:\\Users\\sgcor\\anaconda3\\envs\\tfgpu\\lib\\site-packages\\keras\\backend\\tensorflow_backend.py:3733: calling dropout (from tensorflow.python.ops.nn_ops) with keep_prob is deprecated and will be removed in a future version.\n",
            "Instructions for updating:\n",
            "Please use `rate` instead of `keep_prob`. Rate should be set to `rate = 1 - keep_prob`.\n",
            "Model: \"sequential_3\"\n",
            "_________________________________________________________________\n",
            "Layer (type)                 Output Shape              Param #   \n",
            "=================================================================\n",
            "conv2d_7 (Conv2D)            (None, 64, 64, 16)        1216      \n",
            "_________________________________________________________________\n",
            "conv2d_8 (Conv2D)            (None, 32, 32, 16)        6416      \n",
            "_________________________________________________________________\n",
            "max_pooling2d_4 (MaxPooling2 (None, 16, 16, 16)        0         \n",
            "_________________________________________________________________\n",
            "conv2d_9 (Conv2D)            (None, 16, 16, 32)        4640      \n",
            "_________________________________________________________________\n",
            "conv2d_10 (Conv2D)           (None, 8, 8, 32)          9248      \n",
            "_________________________________________________________________\n",
            "max_pooling2d_5 (MaxPooling2 (None, 4, 4, 32)          0         \n",
            "_________________________________________________________________\n",
            "conv2d_11 (Conv2D)           (None, 4, 4, 64)          18496     \n",
            "_________________________________________________________________\n",
            "conv2d_12 (Conv2D)           (None, 4, 4, 64)          36928     \n",
            "_________________________________________________________________\n",
            "max_pooling2d_6 (MaxPooling2 (None, 2, 2, 64)          0         \n",
            "_________________________________________________________________\n",
            "conv2d_13 (Conv2D)           (None, 2, 2, 128)         73856     \n",
            "_________________________________________________________________\n",
            "conv2d_14 (Conv2D)           (None, 2, 2, 128)         147584    \n",
            "_________________________________________________________________\n",
            "max_pooling2d_7 (MaxPooling2 (None, 1, 1, 128)         0         \n",
            "_________________________________________________________________\n",
            "flatten_3 (Flatten)          (None, 128)               0         \n",
            "_________________________________________________________________\n",
            "dropout_1 (Dropout)          (None, 128)               0         \n",
            "_________________________________________________________________\n",
            "dense_5 (Dense)              (None, 50)                6450      \n",
            "_________________________________________________________________\n",
            "dense_6 (Dense)              (None, 10)                510       \n",
            "=================================================================\n",
            "Total params: 305,344\n",
            "Trainable params: 305,344\n",
            "Non-trainable params: 0\n",
            "_________________________________________________________________\n"
          ],
          "name": "stdout"
        }
      ]
    },
    {
      "cell_type": "code",
      "metadata": {
        "id": "1sU6M1Qs5RK9"
      },
      "source": [
        "cnn3.compile(optimizer='adam',\n",
        "            loss='categorical_crossentropy',\n",
        "            metrics=['accuracy'])"
      ],
      "execution_count": null,
      "outputs": []
    },
    {
      "cell_type": "code",
      "metadata": {
        "id": "ZDeQwCtK5RK9",
        "outputId": "c002da15-64e8-4df6-dc96-949391520281"
      },
      "source": [
        "hist = cnn3.fit(x_train, y_train,\n",
        "               epochs =25,\n",
        "               batch_size =128,\n",
        "               validation_data=(x_test, y_test))"
      ],
      "execution_count": null,
      "outputs": [
        {
          "output_type": "stream",
          "text": [
            "Train on 21600 samples, validate on 5400 samples\n",
            "Epoch 1/25\n",
            "21600/21600 [==============================] - 7s 308us/step - loss: 1.8631 - acc: 0.2539 - val_loss: 1.6573 - val_acc: 0.3333\n",
            "Epoch 2/25\n",
            "21600/21600 [==============================] - 5s 251us/step - loss: 1.4360 - acc: 0.4424 - val_loss: 1.2089 - val_acc: 0.5346\n",
            "Epoch 3/25\n",
            "21600/21600 [==============================] - 5s 248us/step - loss: 1.1392 - acc: 0.5824 - val_loss: 1.1705 - val_acc: 0.5556\n",
            "Epoch 4/25\n",
            "21600/21600 [==============================] - 5s 241us/step - loss: 0.9850 - acc: 0.6442 - val_loss: 0.8784 - val_acc: 0.6861\n",
            "Epoch 5/25\n",
            "21600/21600 [==============================] - 5s 253us/step - loss: 0.8854 - acc: 0.6837 - val_loss: 0.8019 - val_acc: 0.7054\n",
            "Epoch 6/25\n",
            "21600/21600 [==============================] - 6s 271us/step - loss: 0.7765 - acc: 0.7204 - val_loss: 0.7595 - val_acc: 0.7359\n",
            "Epoch 7/25\n",
            "21600/21600 [==============================] - 6s 263us/step - loss: 0.7148 - acc: 0.7457 - val_loss: 0.6917 - val_acc: 0.7476\n",
            "Epoch 8/25\n",
            "21600/21600 [==============================] - 6s 259us/step - loss: 0.6690 - acc: 0.7632 - val_loss: 0.6218 - val_acc: 0.7739\n",
            "Epoch 9/25\n",
            "21600/21600 [==============================] - 5s 254us/step - loss: 0.6493 - acc: 0.7716 - val_loss: 0.6875 - val_acc: 0.7500\n",
            "Epoch 10/25\n",
            "21600/21600 [==============================] - 5s 253us/step - loss: 0.5862 - acc: 0.7968 - val_loss: 0.5215 - val_acc: 0.8106\n",
            "Epoch 11/25\n",
            "21600/21600 [==============================] - 5s 246us/step - loss: 0.5727 - acc: 0.8017 - val_loss: 0.5427 - val_acc: 0.8043\n",
            "Epoch 12/25\n",
            "21600/21600 [==============================] - 5s 247us/step - loss: 0.5419 - acc: 0.8101 - val_loss: 0.5609 - val_acc: 0.7996\n",
            "Epoch 13/25\n",
            "21600/21600 [==============================] - 6s 265us/step - loss: 0.5092 - acc: 0.8212 - val_loss: 0.4734 - val_acc: 0.8335\n",
            "Epoch 14/25\n",
            "21600/21600 [==============================] - 6s 265us/step - loss: 0.4707 - acc: 0.8383 - val_loss: 0.5081 - val_acc: 0.8206\n",
            "Epoch 15/25\n",
            "21600/21600 [==============================] - 6s 259us/step - loss: 0.4642 - acc: 0.8403 - val_loss: 0.4645 - val_acc: 0.8331\n",
            "Epoch 16/25\n",
            "21600/21600 [==============================] - 6s 259us/step - loss: 0.4089 - acc: 0.8583 - val_loss: 0.5802 - val_acc: 0.8013\n",
            "Epoch 17/25\n",
            "21600/21600 [==============================] - 6s 258us/step - loss: 0.4150 - acc: 0.8601 - val_loss: 0.5184 - val_acc: 0.8224\n",
            "Epoch 18/25\n",
            "21600/21600 [==============================] - 5s 255us/step - loss: 0.3933 - acc: 0.8656 - val_loss: 0.4587 - val_acc: 0.8461\n",
            "Epoch 19/25\n",
            "21600/21600 [==============================] - 6s 268us/step - loss: 0.3508 - acc: 0.8787 - val_loss: 0.4518 - val_acc: 0.8430\n",
            "Epoch 20/25\n",
            "21600/21600 [==============================] - 6s 262us/step - loss: 0.3385 - acc: 0.8846 - val_loss: 0.4332 - val_acc: 0.8581\n",
            "Epoch 21/25\n",
            "21600/21600 [==============================] - 6s 262us/step - loss: 0.3361 - acc: 0.8858 - val_loss: 0.4029 - val_acc: 0.8672\n",
            "Epoch 22/25\n",
            "21600/21600 [==============================] - 5s 250us/step - loss: 0.2914 - acc: 0.9011 - val_loss: 0.4236 - val_acc: 0.8569\n",
            "Epoch 23/25\n",
            "21600/21600 [==============================] - 5s 248us/step - loss: 0.2922 - acc: 0.9010 - val_loss: 0.4384 - val_acc: 0.8474\n",
            "Epoch 24/25\n",
            "21600/21600 [==============================] - 6s 259us/step - loss: 0.2697 - acc: 0.9088 - val_loss: 0.5322 - val_acc: 0.8311\n",
            "Epoch 25/25\n",
            "21600/21600 [==============================] - 6s 256us/step - loss: 0.2612 - acc: 0.9099 - val_loss: 0.4432 - val_acc: 0.8546\n"
          ],
          "name": "stdout"
        }
      ]
    },
    {
      "cell_type": "markdown",
      "metadata": {
        "id": "vrysiXZr5RK-"
      },
      "source": [
        "## Batch Normalization\n",
        "Es una técnica que normaliza las entradas de las funciones de activación. Mejora la estabilidad del proceso, un poco la regularización aunque aumenta ligeramente el número de parámetros a entrenar. "
      ]
    },
    {
      "cell_type": "code",
      "metadata": {
        "id": "R7u_Gpax5RK-",
        "outputId": "03fc2089-b725-4516-d331-a60dbb902fe3"
      },
      "source": [
        "from keras.layers import BatchNormalization\n",
        "\n",
        "cnn4 = Sequential()\n",
        "cnn4.add(Conv2D(16, 5,activation='relu',padding = 'same',input_shape = (64,64,3)))\n",
        "cnn4.add(BatchNormalization())\n",
        "cnn4.add(Conv2D(16, 5,activation='relu',padding = 'same',input_shape = (64,64,3)))\n",
        "cnn4.add(MaxPooling2D(pool_size=2))\n",
        "\n",
        "cnn4.add(Conv2D(32, 3,activation='relu',padding = 'same'))\n",
        "cnn4.add(BatchNormalization())\n",
        "cnn4.add(Conv2D(32, 3,activation='relu',padding = 'same'))\n",
        "cnn4.add(MaxPooling2D(pool_size=2))\n",
        "\n",
        "cnn4.add(Conv2D(64, 3,activation='relu',padding = 'same'))\n",
        "cnn4.add(BatchNormalization())\n",
        "cnn4.add(Conv2D(64, 3,activation='relu',padding = 'same'))\n",
        "cnn4.add(MaxPooling2D(pool_size=2))\n",
        "\n",
        "cnn4.add(Conv2D(128, 3,activation='relu',padding = 'same'))\n",
        "cnn4.add(BatchNormalization())\n",
        "cnn4.add(Conv2D(128, 3,activation='relu',padding = 'same'))\n",
        "cnn4.add(MaxPooling2D(pool_size=2))\n",
        "\n",
        "cnn4.add(Flatten()) \n",
        "cnn4.add(Dropout(0.4))\n",
        "cnn4.add(Dense(50, activation = 'relu'))\n",
        "cnn4.add(Dense(10, activation = 'softmax'))\n",
        "cnn4.summary()"
      ],
      "execution_count": null,
      "outputs": [
        {
          "output_type": "stream",
          "text": [
            "WARNING:tensorflow:From C:\\Users\\sgcor\\anaconda3\\envs\\tfgpu\\lib\\site-packages\\keras\\backend\\tensorflow_backend.py:2041: The name tf.nn.fused_batch_norm is deprecated. Please use tf.compat.v1.nn.fused_batch_norm instead.\n",
            "\n",
            "Model: \"sequential_4\"\n",
            "_________________________________________________________________\n",
            "Layer (type)                 Output Shape              Param #   \n",
            "=================================================================\n",
            "conv2d_15 (Conv2D)           (None, 64, 64, 16)        1216      \n",
            "_________________________________________________________________\n",
            "batch_normalization_1 (Batch (None, 64, 64, 16)        64        \n",
            "_________________________________________________________________\n",
            "conv2d_16 (Conv2D)           (None, 64, 64, 16)        6416      \n",
            "_________________________________________________________________\n",
            "max_pooling2d_8 (MaxPooling2 (None, 32, 32, 16)        0         \n",
            "_________________________________________________________________\n",
            "conv2d_17 (Conv2D)           (None, 32, 32, 32)        4640      \n",
            "_________________________________________________________________\n",
            "batch_normalization_2 (Batch (None, 32, 32, 32)        128       \n",
            "_________________________________________________________________\n",
            "conv2d_18 (Conv2D)           (None, 32, 32, 32)        9248      \n",
            "_________________________________________________________________\n",
            "max_pooling2d_9 (MaxPooling2 (None, 16, 16, 32)        0         \n",
            "_________________________________________________________________\n",
            "conv2d_19 (Conv2D)           (None, 16, 16, 64)        18496     \n",
            "_________________________________________________________________\n",
            "batch_normalization_3 (Batch (None, 16, 16, 64)        256       \n",
            "_________________________________________________________________\n",
            "conv2d_20 (Conv2D)           (None, 16, 16, 64)        36928     \n",
            "_________________________________________________________________\n",
            "max_pooling2d_10 (MaxPooling (None, 8, 8, 64)          0         \n",
            "_________________________________________________________________\n",
            "conv2d_21 (Conv2D)           (None, 8, 8, 128)         73856     \n",
            "_________________________________________________________________\n",
            "batch_normalization_4 (Batch (None, 8, 8, 128)         512       \n",
            "_________________________________________________________________\n",
            "conv2d_22 (Conv2D)           (None, 8, 8, 128)         147584    \n",
            "_________________________________________________________________\n",
            "max_pooling2d_11 (MaxPooling (None, 4, 4, 128)         0         \n",
            "_________________________________________________________________\n",
            "flatten_4 (Flatten)          (None, 2048)              0         \n",
            "_________________________________________________________________\n",
            "dropout_2 (Dropout)          (None, 2048)              0         \n",
            "_________________________________________________________________\n",
            "dense_7 (Dense)              (None, 50)                102450    \n",
            "_________________________________________________________________\n",
            "dense_8 (Dense)              (None, 10)                510       \n",
            "=================================================================\n",
            "Total params: 402,304\n",
            "Trainable params: 401,824\n",
            "Non-trainable params: 480\n",
            "_________________________________________________________________\n"
          ],
          "name": "stdout"
        }
      ]
    },
    {
      "cell_type": "code",
      "metadata": {
        "id": "yu7YjJ-z5RK-"
      },
      "source": [
        "cnn4.compile(optimizer='adam',\n",
        "            loss='categorical_crossentropy',\n",
        "            metrics=['accuracy'])"
      ],
      "execution_count": null,
      "outputs": []
    },
    {
      "cell_type": "code",
      "metadata": {
        "id": "0oeJzjqt5RK-",
        "outputId": "83095f61-092b-40e4-d295-5380a3a50fa9"
      },
      "source": [
        "hist4 = cnn4.fit(x_train, y_train,\n",
        "               epochs =25,\n",
        "               batch_size =256,\n",
        "               validation_data=(x_test, y_test))"
      ],
      "execution_count": null,
      "outputs": [
        {
          "output_type": "stream",
          "text": [
            "Train on 21600 samples, validate on 5400 samples\n",
            "Epoch 1/25\n",
            "21600/21600 [==============================] - 10s 462us/step - loss: 1.0452 - acc: 0.6376 - val_loss: 2.1827 - val_acc: 0.4833\n",
            "Epoch 2/25\n",
            "21600/21600 [==============================] - 8s 350us/step - loss: 0.6147 - acc: 0.7832 - val_loss: 0.8168 - val_acc: 0.7213\n",
            "Epoch 3/25\n",
            "21600/21600 [==============================] - 8s 371us/step - loss: 0.5215 - acc: 0.8153 - val_loss: 1.0537 - val_acc: 0.7007\n",
            "Epoch 4/25\n",
            "21600/21600 [==============================] - 8s 358us/step - loss: 0.4292 - acc: 0.8488 - val_loss: 3.8040 - val_acc: 0.3419\n",
            "Epoch 5/25\n",
            "21600/21600 [==============================] - 7s 338us/step - loss: 0.3755 - acc: 0.8713 - val_loss: 0.9155 - val_acc: 0.7463\n",
            "Epoch 6/25\n",
            "21600/21600 [==============================] - 8s 352us/step - loss: 0.3258 - acc: 0.8854 - val_loss: 1.1114 - val_acc: 0.6902\n",
            "Epoch 7/25\n",
            "21600/21600 [==============================] - 7s 347us/step - loss: 0.2797 - acc: 0.9044 - val_loss: 0.9167 - val_acc: 0.7585\n",
            "Epoch 8/25\n",
            "21600/21600 [==============================] - 8s 351us/step - loss: 0.2607 - acc: 0.9104 - val_loss: 1.4242 - val_acc: 0.6257\n",
            "Epoch 9/25\n",
            "21600/21600 [==============================] - 8s 365us/step - loss: 0.2252 - acc: 0.9231 - val_loss: 1.1619 - val_acc: 0.6998\n",
            "Epoch 10/25\n",
            "21600/21600 [==============================] - 8s 362us/step - loss: 0.1876 - acc: 0.9342 - val_loss: 6.4921 - val_acc: 0.2907\n",
            "Epoch 11/25\n",
            "21600/21600 [==============================] - 7s 342us/step - loss: 0.1625 - acc: 0.9429 - val_loss: 0.4910 - val_acc: 0.8580\n",
            "Epoch 12/25\n",
            "21600/21600 [==============================] - 8s 361us/step - loss: 0.1565 - acc: 0.9450 - val_loss: 0.7295 - val_acc: 0.7876\n",
            "Epoch 13/25\n",
            "21600/21600 [==============================] - 8s 371us/step - loss: 0.1465 - acc: 0.9478 - val_loss: 0.9290 - val_acc: 0.7567\n",
            "Epoch 14/25\n",
            "21600/21600 [==============================] - 8s 358us/step - loss: 0.1269 - acc: 0.9567 - val_loss: 0.5707 - val_acc: 0.8441\n",
            "Epoch 15/25\n",
            "21600/21600 [==============================] - 8s 350us/step - loss: 0.1154 - acc: 0.9592 - val_loss: 1.9026 - val_acc: 0.5635\n",
            "Epoch 16/25\n",
            "21600/21600 [==============================] - 8s 376us/step - loss: 0.1009 - acc: 0.9639 - val_loss: 0.5491 - val_acc: 0.8663\n",
            "Epoch 17/25\n",
            "21600/21600 [==============================] - 8s 360us/step - loss: 0.1023 - acc: 0.9640 - val_loss: 0.7889 - val_acc: 0.8081\n",
            "Epoch 18/25\n",
            "21600/21600 [==============================] - 8s 364us/step - loss: 0.0844 - acc: 0.9698 - val_loss: 0.4389 - val_acc: 0.8726\n",
            "Epoch 19/25\n",
            "21600/21600 [==============================] - 8s 349us/step - loss: 0.0961 - acc: 0.9673 - val_loss: 2.5601 - val_acc: 0.5263\n",
            "Epoch 20/25\n",
            "21600/21600 [==============================] - 8s 350us/step - loss: 0.0821 - acc: 0.9705 - val_loss: 1.1051 - val_acc: 0.7737\n",
            "Epoch 21/25\n",
            "21600/21600 [==============================] - 7s 344us/step - loss: 0.0628 - acc: 0.9785 - val_loss: 0.3909 - val_acc: 0.9011\n",
            "Epoch 22/25\n",
            "21600/21600 [==============================] - 8s 362us/step - loss: 0.0542 - acc: 0.9818 - val_loss: 0.4583 - val_acc: 0.8883\n",
            "Epoch 23/25\n",
            "21600/21600 [==============================] - 8s 363us/step - loss: 0.0563 - acc: 0.9805 - val_loss: 0.5968 - val_acc: 0.8544\n",
            "Epoch 24/25\n",
            "21600/21600 [==============================] - 8s 363us/step - loss: 0.0621 - acc: 0.9786 - val_loss: 0.6182 - val_acc: 0.8737\n",
            "Epoch 25/25\n",
            "21600/21600 [==============================] - 8s 347us/step - loss: 0.0587 - acc: 0.9799 - val_loss: 1.0210 - val_acc: 0.7376\n"
          ],
          "name": "stdout"
        }
      ]
    },
    {
      "cell_type": "code",
      "metadata": {
        "id": "l3oNGGYa5RK-"
      },
      "source": [
        ""
      ],
      "execution_count": null,
      "outputs": []
    }
  ]
}